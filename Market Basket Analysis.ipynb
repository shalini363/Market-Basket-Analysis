{
 "cells": [
  {
   "cell_type": "code",
   "execution_count": 2,
   "id": "bdacc44b",
   "metadata": {
    "scrolled": true
   },
   "outputs": [
    {
     "name": "stdout",
     "output_type": "stream",
     "text": [
      "Requirement already satisfied: mlxtend in /Users/shalinijawale/anaconda3/lib/python3.11/site-packages (0.23.1)\n",
      "Requirement already satisfied: scipy>=1.2.1 in /Users/shalinijawale/anaconda3/lib/python3.11/site-packages (from mlxtend) (1.10.1)\n",
      "Requirement already satisfied: numpy>=1.16.2 in /Users/shalinijawale/anaconda3/lib/python3.11/site-packages (from mlxtend) (1.24.3)\n",
      "Requirement already satisfied: pandas>=0.24.2 in /Users/shalinijawale/anaconda3/lib/python3.11/site-packages (from mlxtend) (1.5.3)\n",
      "Requirement already satisfied: scikit-learn>=1.0.2 in /Users/shalinijawale/anaconda3/lib/python3.11/site-packages (from mlxtend) (1.2.2)\n",
      "Requirement already satisfied: matplotlib>=3.0.0 in /Users/shalinijawale/anaconda3/lib/python3.11/site-packages (from mlxtend) (3.7.1)\n",
      "Requirement already satisfied: joblib>=0.13.2 in /Users/shalinijawale/anaconda3/lib/python3.11/site-packages (from mlxtend) (1.2.0)\n",
      "Requirement already satisfied: contourpy>=1.0.1 in /Users/shalinijawale/anaconda3/lib/python3.11/site-packages (from matplotlib>=3.0.0->mlxtend) (1.0.5)\n",
      "Requirement already satisfied: cycler>=0.10 in /Users/shalinijawale/anaconda3/lib/python3.11/site-packages (from matplotlib>=3.0.0->mlxtend) (0.11.0)\n",
      "Requirement already satisfied: fonttools>=4.22.0 in /Users/shalinijawale/anaconda3/lib/python3.11/site-packages (from matplotlib>=3.0.0->mlxtend) (4.25.0)\n",
      "Requirement already satisfied: kiwisolver>=1.0.1 in /Users/shalinijawale/anaconda3/lib/python3.11/site-packages (from matplotlib>=3.0.0->mlxtend) (1.4.4)\n",
      "Requirement already satisfied: packaging>=20.0 in /Users/shalinijawale/anaconda3/lib/python3.11/site-packages (from matplotlib>=3.0.0->mlxtend) (23.0)\n",
      "Requirement already satisfied: pillow>=6.2.0 in /Users/shalinijawale/anaconda3/lib/python3.11/site-packages (from matplotlib>=3.0.0->mlxtend) (9.4.0)\n",
      "Requirement already satisfied: pyparsing>=2.3.1 in /Users/shalinijawale/anaconda3/lib/python3.11/site-packages (from matplotlib>=3.0.0->mlxtend) (3.0.9)\n",
      "Requirement already satisfied: python-dateutil>=2.7 in /Users/shalinijawale/anaconda3/lib/python3.11/site-packages (from matplotlib>=3.0.0->mlxtend) (2.8.2)\n",
      "Requirement already satisfied: pytz>=2020.1 in /Users/shalinijawale/anaconda3/lib/python3.11/site-packages (from pandas>=0.24.2->mlxtend) (2022.7)\n",
      "Requirement already satisfied: threadpoolctl>=2.0.0 in /Users/shalinijawale/anaconda3/lib/python3.11/site-packages (from scikit-learn>=1.0.2->mlxtend) (2.2.0)\n",
      "Requirement already satisfied: six>=1.5 in /Users/shalinijawale/anaconda3/lib/python3.11/site-packages (from python-dateutil>=2.7->matplotlib>=3.0.0->mlxtend) (1.16.0)\n",
      "Note: you may need to restart the kernel to use updated packages.\n"
     ]
    }
   ],
   "source": [
    "pip install mlxtend"
   ]
  },
  {
   "cell_type": "code",
   "execution_count": 3,
   "id": "fbc5627d",
   "metadata": {},
   "outputs": [],
   "source": [
    "# Libraries\n",
    "import pandas as pd  # For data handling\n",
    "import time  # For time tracking\n",
    "import itertools  # For combinations\n",
    "from mlxtend.preprocessing import TransactionEncoder  # For transaction encoding\n",
    "from mlxtend.frequent_patterns import apriori, association_rules  # For Apriori algorithm and association rules\n",
    "import pyfpgrowth  # For FP-Growth algorithm"
   ]
  },
  {
   "cell_type": "markdown",
   "id": "0af8a5be",
   "metadata": {},
   "source": [
    "### Part 1: Generate Transactions and Save to CSV"
   ]
  },
  {
   "cell_type": "code",
   "execution_count": 4,
   "id": "a2108d46",
   "metadata": {},
   "outputs": [],
   "source": [
    "# Read CSV File and to convert it into a List of Transactions\n",
    "def read_transactions(file_path):\n",
    "    transactions = []\n",
    "    with open(file_path, 'r') as file:\n",
    "        csv_reader = pd.read_csv(file)\n",
    "        for index, row in csv_reader.iterrows():\n",
    "            transactions.append(row['Transaction'].split(', '))\n",
    "    return transactions"
   ]
  },
  {
   "cell_type": "code",
   "execution_count": 5,
   "id": "cbd5468d",
   "metadata": {},
   "outputs": [],
   "source": [
    "# To convert List of Transactions into MLxtend-Compatible Format\n",
    "def convert_to_mlxtend_format(transactions):\n",
    "    transaction_encoder = TransactionEncoder()\n",
    "    transaction_array = transaction_encoder.fit(transactions).transform(transactions)\n",
    "    dataframe = pd.DataFrame(transaction_array, columns=transaction_encoder.columns_)\n",
    "    return dataframe"
   ]
  },
  {
   "cell_type": "markdown",
   "id": "1b8ad88e",
   "metadata": {},
   "source": [
    "### Part 2: Brute Force Method for Generating Frequent Itemsets and Association Rules"
   ]
  },
  {
   "cell_type": "code",
   "execution_count": 6,
   "id": "39ed677f",
   "metadata": {},
   "outputs": [],
   "source": [
    "# Brute Force Method\n",
    "def generate_frequent_itemsets_brute_force(transactions, support_threshold):\n",
    "    items = set(item for transaction in transactions for item in transaction)\n",
    "    frequent_itemsets = {}\n",
    "    \n",
    "    # Created every 1-itemset that could be imagined and checked the frequency\n",
    "    for item in items:\n",
    "        frequency = sum(1 for transaction in transactions if item in transaction)\n",
    "        if frequency / len(transactions) >= support_threshold:\n",
    "            frequent_itemsets[(item,)] = frequency\n",
    "    \n",
    "    # created every 2-itemset that could be imagined and checked the frequency\n",
    "    for itemset in itertools.combinations(items, 2):\n",
    "        frequency = sum(1 for transaction in transactions if set(itemset).issubset(set(transaction)))\n",
    "        if frequency / len(transactions) >= support_threshold:\n",
    "            frequent_itemsets[itemset] = frequency\n",
    "    \n",
    "    # Until no more frequent itemsets could be found, all potential k-itemsets were generated.\n",
    "    k = 3\n",
    "    while True:\n",
    "        itemsets = itertools.combinations(items, k)\n",
    "        found_frequent_itemsets = False\n",
    "        \n",
    "        for itemset in itemsets:\n",
    "            frequency = sum(1 for transaction in transactions if set(itemset).issubset(set(transaction)))\n",
    "            if frequency / len(transactions) >= support_threshold:\n",
    "                frequent_itemsets[itemset] = frequency\n",
    "                found_frequent_itemsets = True\n",
    "                \n",
    "        if not found_frequent_itemsets:\n",
    "            break\n",
    "        \n",
    "        k += 1\n",
    "    \n",
    "    return frequent_itemsets\n"
   ]
  },
  {
   "cell_type": "code",
   "execution_count": 7,
   "id": "3c67487a",
   "metadata": {},
   "outputs": [],
   "source": [
    "# Apriori Algorithm\n",
    "def run_apriori_algorithm(transactions, support_threshold):\n",
    "    dataframe = convert_to_mlxtend_format(transactions)\n",
    "    frequent_itemsets = apriori(dataframe, min_support=support_threshold, use_colnames=True)\n",
    "    return frequent_itemsets"
   ]
  },
  {
   "cell_type": "code",
   "execution_count": 8,
   "id": "4beaea37",
   "metadata": {
    "scrolled": true
   },
   "outputs": [
    {
     "name": "stdout",
     "output_type": "stream",
     "text": [
      "Requirement already satisfied: mlxtend in /Users/shalinijawale/anaconda3/lib/python3.11/site-packages (0.23.1)\n",
      "Requirement already satisfied: pyfpgrowth in /Users/shalinijawale/anaconda3/lib/python3.11/site-packages (1.0)\n",
      "Requirement already satisfied: scipy>=1.2.1 in /Users/shalinijawale/anaconda3/lib/python3.11/site-packages (from mlxtend) (1.10.1)\n",
      "Requirement already satisfied: numpy>=1.16.2 in /Users/shalinijawale/anaconda3/lib/python3.11/site-packages (from mlxtend) (1.24.3)\n",
      "Requirement already satisfied: pandas>=0.24.2 in /Users/shalinijawale/anaconda3/lib/python3.11/site-packages (from mlxtend) (1.5.3)\n",
      "Requirement already satisfied: scikit-learn>=1.0.2 in /Users/shalinijawale/anaconda3/lib/python3.11/site-packages (from mlxtend) (1.2.2)\n",
      "Requirement already satisfied: matplotlib>=3.0.0 in /Users/shalinijawale/anaconda3/lib/python3.11/site-packages (from mlxtend) (3.7.1)\n",
      "Requirement already satisfied: joblib>=0.13.2 in /Users/shalinijawale/anaconda3/lib/python3.11/site-packages (from mlxtend) (1.2.0)\n",
      "Requirement already satisfied: contourpy>=1.0.1 in /Users/shalinijawale/anaconda3/lib/python3.11/site-packages (from matplotlib>=3.0.0->mlxtend) (1.0.5)\n",
      "Requirement already satisfied: cycler>=0.10 in /Users/shalinijawale/anaconda3/lib/python3.11/site-packages (from matplotlib>=3.0.0->mlxtend) (0.11.0)\n",
      "Requirement already satisfied: fonttools>=4.22.0 in /Users/shalinijawale/anaconda3/lib/python3.11/site-packages (from matplotlib>=3.0.0->mlxtend) (4.25.0)\n",
      "Requirement already satisfied: kiwisolver>=1.0.1 in /Users/shalinijawale/anaconda3/lib/python3.11/site-packages (from matplotlib>=3.0.0->mlxtend) (1.4.4)\n",
      "Requirement already satisfied: packaging>=20.0 in /Users/shalinijawale/anaconda3/lib/python3.11/site-packages (from matplotlib>=3.0.0->mlxtend) (23.0)\n",
      "Requirement already satisfied: pillow>=6.2.0 in /Users/shalinijawale/anaconda3/lib/python3.11/site-packages (from matplotlib>=3.0.0->mlxtend) (9.4.0)\n",
      "Requirement already satisfied: pyparsing>=2.3.1 in /Users/shalinijawale/anaconda3/lib/python3.11/site-packages (from matplotlib>=3.0.0->mlxtend) (3.0.9)\n",
      "Requirement already satisfied: python-dateutil>=2.7 in /Users/shalinijawale/anaconda3/lib/python3.11/site-packages (from matplotlib>=3.0.0->mlxtend) (2.8.2)\n",
      "Requirement already satisfied: pytz>=2020.1 in /Users/shalinijawale/anaconda3/lib/python3.11/site-packages (from pandas>=0.24.2->mlxtend) (2022.7)\n",
      "Requirement already satisfied: threadpoolctl>=2.0.0 in /Users/shalinijawale/anaconda3/lib/python3.11/site-packages (from scikit-learn>=1.0.2->mlxtend) (2.2.0)\n",
      "Requirement already satisfied: six>=1.5 in /Users/shalinijawale/anaconda3/lib/python3.11/site-packages (from python-dateutil>=2.7->matplotlib>=3.0.0->mlxtend) (1.16.0)\n",
      "Note: you may need to restart the kernel to use updated packages.\n"
     ]
    }
   ],
   "source": [
    "pip install mlxtend pyfpgrowth"
   ]
  },
  {
   "cell_type": "code",
   "execution_count": 9,
   "id": "5a419455",
   "metadata": {},
   "outputs": [],
   "source": [
    "# FP-Growth Algorithm\n",
    "def run_fp_growth(transactions, support_threshold):\n",
    "    patterns = pyfpgrowth.find_frequent_patterns(transactions, support_threshold * len(transactions))\n",
    "    frequent_itemsets = pd.DataFrame(list(patterns.items()), columns=['itemsets', 'support'])\n",
    "    frequent_itemsets['itemsets'] = frequent_itemsets['itemsets'].apply(frozenset)\n",
    "    return frequent_itemsets"
   ]
  },
  {
   "cell_type": "code",
   "execution_count": 10,
   "id": "33c439b0",
   "metadata": {},
   "outputs": [],
   "source": [
    "# Generate Association Rules Function from Frequently Occurring Itemsets\n",
    "def generate_association_rules(frequent_itemsets, transactions, confidence_threshold):\n",
    "    dataframe = convert_to_mlxtend_format(transactions)\n",
    "    rules = association_rules(frequent_itemsets, metric=\"confidence\", min_threshold=confidence_threshold, support_only=True)\n",
    "    rules = rules[['antecedents', 'consequents', 'support', 'confidence']]\n",
    "    return rules"
   ]
  },
  {
   "cell_type": "code",
   "execution_count": 11,
   "id": "056b5424",
   "metadata": {},
   "outputs": [],
   "source": [
    "# A function to compare each of the three algorithms' performance times and results\n",
    "def compare_algorithms(file_path, support_threshold, confidence_threshold):\n",
    "    transactions = read_transactions(file_path)\n",
    "    \n",
    "    # Brute Force Method\n",
    "    start_time = time.time()\n",
    "    brute_force_itemsets = generate_frequent_itemsets_brute_force(transactions, support_threshold)\n",
    "    brute_force_time = time.time() - start_time\n",
    "    print(f\"Brute Force Method: {len(brute_force_itemsets)} frequent itemsets found in {brute_force_time:.5f} seconds.\")\n",
    "    #print(brute_force_itemsets)\n",
    "    \n",
    "    # Apriori Algorithm\n",
    "    start_time = time.time()\n",
    "    apriori_itemsets = run_apriori_algorithm(transactions, support_threshold)\n",
    "    apriori_rules = generate_association_rules(apriori_itemsets, transactions, confidence_threshold)\n",
    "    apriori_time = time.time() - start_time\n",
    "    print(f\"Apriori Algorithm: {len(apriori_itemsets)} frequent itemsets and {len(apriori_rules)} rules found in {apriori_time:.5f} seconds.\")\n",
    "    #print(apriori_itemsets)\n",
    "    \n",
    "    # FP-Growth Algorithm\n",
    "    start_time = time.time()\n",
    "    fpgrowth_itemsets = run_fp_growth(transactions, support_threshold)\n",
    "    fpgrowth_rules = generate_association_rules(fpgrowth_itemsets, transactions, confidence_threshold)\n",
    "    fpgrowth_time = time.time() - start_time\n",
    "    print(f\"FP-Growth Algorithm: {len(fpgrowth_itemsets)} frequent itemsets and {len(fpgrowth_rules)} rules found in {fpgrowth_time:.5f} seconds.\")\n",
    "    #print(fpgrowth_itemsets)\n",
    "    \n",
    "    # Fastest algorithm\n",
    "    fastest_time = min(brute_force_time, apriori_time, fpgrowth_time)\n",
    "    fastest_algo = 'Brute Force' if fastest_time == brute_force_time else ('Apriori' if fastest_time == apriori_time else 'FP-Growth')\n",
    "    print(f\"The fastest algorithm for {file_path} is {fastest_algo} with a time of {fastest_time:.5f} sec.\\n\")\n",
    "    \n",
    "    return brute_force_itemsets, apriori_rules, fpgrowth_rules"
   ]
  },
  {
   "cell_type": "code",
   "execution_count": 12,
   "id": "f754117d",
   "metadata": {},
   "outputs": [
    {
     "name": "stdout",
     "output_type": "stream",
     "text": [
      "Enter the fractional support threshold: 0.5\n",
      "Enter the fractional confidence threshold: 0.5\n",
      "Working through Amazon.csv\n",
      "Brute Force Method: 5 frequent itemsets found in 0.00228 seconds.\n",
      "Apriori Algorithm: 5 frequent itemsets and 2 rules found in 0.00903 seconds.\n",
      "FP-Growth Algorithm: 5 frequent itemsets and 2 rules found in 0.00476 seconds.\n",
      "The fastest algorithm for Amazon.csv is Brute Force with a time of 0.00228 sec.\n",
      "\n",
      "The number of rules formed by Brute Force: 5\n",
      "The number of rules formed by Apriori: 2\n",
      "The number of rules formed by FP-Growth: 2\n",
      "\n",
      "\n",
      "Working through Best_Buy.csv\n",
      "Brute Force Method: 7 frequent itemsets found in 0.00731 seconds.\n",
      "Apriori Algorithm: 7 frequent itemsets and 2 rules found in 0.00504 seconds.\n",
      "FP-Growth Algorithm: 7 frequent itemsets and 2 rules found in 0.00284 seconds.\n",
      "The fastest algorithm for Best_Buy.csv is FP-Growth with a time of 0.00284 sec.\n",
      "\n",
      "The number of rules formed by Brute Force: 7\n",
      "The number of rules formed by Apriori: 2\n",
      "The number of rules formed by FP-Growth: 2\n",
      "\n",
      "\n",
      "Working through Generic.csv\n",
      "Brute Force Method: 5 frequent itemsets found in 0.00008 seconds.\n",
      "Apriori Algorithm: 5 frequent itemsets and 4 rules found in 0.00443 seconds.\n",
      "FP-Growth Algorithm: 5 frequent itemsets and 4 rules found in 0.00271 seconds.\n",
      "The fastest algorithm for Generic.csv is Brute Force with a time of 0.00008 sec.\n",
      "\n",
      "The number of rules formed by Brute Force: 5\n",
      "The number of rules formed by Apriori: 4\n",
      "The number of rules formed by FP-Growth: 4\n",
      "\n",
      "\n",
      "Working through K-Mart.csv\n",
      "Brute Force Method: 1 frequent itemsets found in 0.00970 seconds.\n",
      "Apriori Algorithm: 1 frequent itemsets and 0 rules found in 0.00451 seconds.\n",
      "FP-Growth Algorithm: 1 frequent itemsets and 0 rules found in 0.00191 seconds.\n",
      "The fastest algorithm for K-Mart.csv is FP-Growth with a time of 0.00191 sec.\n",
      "\n",
      "The number of rules formed by Brute Force: 1\n",
      "The number of rules formed by Apriori: 0\n",
      "The number of rules formed by FP-Growth: 0\n",
      "\n",
      "\n",
      "Working through Nike.csv\n",
      "Brute Force Method: 12 frequent itemsets found in 0.00755 seconds.\n",
      "Apriori Algorithm: 12 frequent itemsets and 16 rules found in 0.00646 seconds.\n",
      "FP-Growth Algorithm: 11 frequent itemsets and 16 rules found in 0.00292 seconds.\n",
      "The fastest algorithm for Nike.csv is FP-Growth with a time of 0.00292 sec.\n",
      "\n",
      "The number of rules formed by Brute Force: 12\n",
      "The number of rules formed by Apriori: 16\n",
      "The number of rules formed by FP-Growth: 16\n",
      "\n",
      "\n"
     ]
    }
   ],
   "source": [
    "# Main function\n",
    "def main():\n",
    "    support_threshold = float(input(\"Enter the fractional support threshold: \"))\n",
    "    confidence_threshold = float(input(\"Enter the fractional confidence threshold: \"))\n",
    "    file_paths = ['Amazon.csv','Best_Buy.csv','Generic.csv','K-Mart.csv','Nike.csv']\n",
    "    for file_path in file_paths:\n",
    "        print(f\"Working through {file_path}\")\n",
    "        brute_force_itemsets, apriori_rules, fpgrowth_rules = compare_algorithms(file_path, support_threshold, confidence_threshold)\n",
    "        print(f\"The number of rules formed by Brute Force: {len(brute_force_itemsets)}\")\n",
    "        print(f\"The number of rules formed by Apriori: {len(apriori_rules)}\")\n",
    "        print(f\"The number of rules formed by FP-Growth: {len(fpgrowth_rules)}\")\n",
    "        print(\"\\n\")\n",
    "\n",
    "if __name__ == \"__main__\":\n",
    "    main()"
   ]
  },
  {
   "cell_type": "code",
   "execution_count": null,
   "id": "fa433a0a",
   "metadata": {},
   "outputs": [],
   "source": []
  }
 ],
 "metadata": {
  "kernelspec": {
   "display_name": "Python 3 (ipykernel)",
   "language": "python",
   "name": "python3"
  },
  "language_info": {
   "codemirror_mode": {
    "name": "ipython",
    "version": 3
   },
   "file_extension": ".py",
   "mimetype": "text/x-python",
   "name": "python",
   "nbconvert_exporter": "python",
   "pygments_lexer": "ipython3",
   "version": "3.11.3"
  }
 },
 "nbformat": 4,
 "nbformat_minor": 5
}
